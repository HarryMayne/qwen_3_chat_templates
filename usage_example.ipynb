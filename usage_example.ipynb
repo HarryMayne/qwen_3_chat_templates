{
 "cells": [
  {
   "cell_type": "markdown",
   "metadata": {},
   "source": [
    "# Qwen 3 8B templates usage example"
   ]
  },
  {
   "cell_type": "code",
   "execution_count": 14,
   "metadata": {},
   "outputs": [],
   "source": [
    "import transformers\n",
    "\n",
    "tokenizer = transformers.AutoTokenizer.from_pretrained(\"Qwen/Qwen3-8B\")\n",
    "\n",
    "conversation = [\n",
    "    {\"role\": \"user\", \"content\": \"Hello assistant\"},\n",
    "    {\"role\": \"assistant\", \"content\": \"Hello user\"},\n",
    "    {\"role\": \"user\", \"content\": \"How are you?\"},\n",
    "    {\"role\": \"assistant\", \"content\": \"I'm good\"},\n",
    "]"
   ]
  },
  {
   "cell_type": "code",
   "execution_count": 15,
   "metadata": {},
   "outputs": [
    {
     "name": "stdout",
     "output_type": "stream",
     "text": [
      "Default Template - No Assistant Tokens Masked:\n",
      "\n",
      "[151644, 872, 198, 9707, 17847, 151645, 198, 151644, 77091, 198, 9707, 1196, 151645, 198, 151644, 872, 198, 4340, 525, 498, 30, 151645, 198, 151644, 77091, 198, 151667, 271, 151668, 271, 40, 2776, 1661, 151645, 198]\n",
      "[0, 0, 0, 0, 0, 0, 0, 0, 0, 0, 0, 0, 0, 0, 0, 0, 0, 0, 0, 0, 0, 0, 0, 0, 0, 0, 0, 0, 0, 0, 0, 0, 0, 0, 0]\n",
      "Assistant mask sum: 0\n"
     ]
    }
   ],
   "source": [
    "##########################################################################################\n",
    "# Default Template (the default template doesn't mask any assistant tokens)\n",
    "##########################################################################################\n",
    "\n",
    "tokenized_output = tokenizer.apply_chat_template(\n",
    "    conversation,\n",
    "    return_assistant_tokens_mask=True,\n",
    "    return_dict=True,\n",
    ")\n",
    "\n",
    "print(\"Default Template - No Assistant Tokens Masked:\\n\")\n",
    "\n",
    "print(tokenized_output['input_ids'])\n",
    "print(tokenized_output['assistant_masks'])\n",
    "print(f\"Assistant mask sum: {sum(tokenized_output['assistant_masks'])}\")"
   ]
  },
  {
   "cell_type": "code",
   "execution_count": 21,
   "metadata": {},
   "outputs": [
    {
     "name": "stdout",
     "output_type": "stream",
     "text": [
      "Default Template - No Assistant Tokens Masked:\n",
      "\n",
      "[151644, 872, 198, 9707, 17847, 151645, 198, 151644, 77091, 198, 9707, 1196, 151645, 198, 151644, 872, 198, 4340, 525, 498, 30, 151645, 198, 151644, 77091, 198, 151667, 271, 151668, 271, 40, 2776, 1661, 151645, 198]\n",
      "[0, 0, 0, 0, 0, 0, 0, 0, 0, 0, 1, 1, 1, 1, 0, 0, 0, 0, 0, 0, 0, 0, 0, 0, 0, 0, 1, 1, 1, 1, 1, 1, 1, 1, 1]\n",
      "Assistant mask sum: 13\n"
     ]
    }
   ],
   "source": [
    "##########################################################################################\n",
    "# All assistant template\n",
    "# Credit to Alexander Kovrigin(https://huggingface.co/Qwen/Qwen3-8B/discussions/14) for writing this.\n",
    "##########################################################################################\n",
    "\n",
    "# Load the all assistant template\n",
    "with open('all_assistant.jinja', 'r') as f:\n",
    "    all_assistant_template = f.read()\n",
    "\n",
    "tokenizer.chat_template = all_assistant_template\n",
    "\n",
    "tokenized_output_all = tokenizer.apply_chat_template(\n",
    "    conversation,\n",
    "    return_assistant_tokens_mask=True,\n",
    "    return_dict=True,\n",
    ")\n",
    "\n",
    "print(\"Default Template - No Assistant Tokens Masked:\\n\")\n",
    "\n",
    "print(tokenized_output_all['input_ids'])\n",
    "print(tokenized_output_all['assistant_masks'])\n",
    "print(f\"Assistant mask sum: {sum(tokenized_output_all['assistant_masks'])}\")"
   ]
  },
  {
   "cell_type": "code",
   "execution_count": 22,
   "metadata": {},
   "outputs": [
    {
     "name": "stdout",
     "output_type": "stream",
     "text": [
      "Default Template - No Assistant Tokens Masked:\n",
      "\n",
      "[151644, 872, 198, 9707, 17847, 151645, 198, 151644, 77091, 198, 9707, 1196, 151645, 198, 151644, 872, 198, 4340, 525, 498, 30, 151645, 198, 151644, 77091, 198, 151667, 271, 151668, 271, 40, 2776, 1661, 151645, 198]\n",
      "[0, 0, 0, 0, 0, 0, 0, 0, 0, 0, 0, 0, 0, 0, 0, 0, 0, 0, 0, 0, 0, 0, 0, 0, 0, 0, 1, 1, 1, 1, 1, 1, 1, 1, 1]\n",
      "Assistant mask sum: 9\n"
     ]
    }
   ],
   "source": [
    "##########################################################################################\n",
    "# Final assistant template\n",
    "##########################################################################################\n",
    "\n",
    "# Load the final assistant template\n",
    "with open('final_assistant.jinja', 'r') as f:\n",
    "    final_assistant_template = f.read()\n",
    "\n",
    "tokenizer.chat_template = final_assistant_template\n",
    "\n",
    "tokenized_output_final = tokenizer.apply_chat_template(\n",
    "    conversation,\n",
    "    return_assistant_tokens_mask=True,\n",
    "    return_dict=True,\n",
    ")\n",
    "\n",
    "print(\"Default Template - No Assistant Tokens Masked:\\n\")\n",
    "\n",
    "print(tokenized_output_final['input_ids'])\n",
    "print(tokenized_output_final['assistant_masks'])\n",
    "print(f\"Assistant mask sum: {sum(tokenized_output_final['assistant_masks'])}\")"
   ]
  },
  {
   "cell_type": "markdown",
   "metadata": {},
   "source": [
    "## Comparison\n",
    "\n",
    "Compare the assistant masks across all three approaches:"
   ]
  },
  {
   "cell_type": "code",
   "execution_count": 24,
   "metadata": {},
   "outputs": [
    {
     "name": "stdout",
     "output_type": "stream",
     "text": [
      "Comparison of Assistant Masks:\n",
      "\n",
      "Default (no mask):     [0, 0, 0, 0, 0, 0, 0, 0, 0, 0, 0, 0, 0, 0, 0, 0, 0, 0, 0, 0, 0, 0, 0, 0, 0, 0, 0, 0, 0, 0, 0, 0, 0, 0, 0]\n",
      "All assistant:         [0, 0, 0, 0, 0, 0, 0, 0, 0, 0, 1, 1, 1, 1, 0, 0, 0, 0, 0, 0, 0, 0, 0, 0, 0, 0, 1, 1, 1, 1, 1, 1, 1, 1, 1]\n",
      "Final assistant only:  [0, 0, 0, 0, 0, 0, 0, 0, 0, 0, 0, 0, 0, 0, 0, 0, 0, 0, 0, 0, 0, 0, 0, 0, 0, 0, 1, 1, 1, 1, 1, 1, 1, 1, 1]\n",
      "\n",
      "Mask counts:\n",
      "\n",
      "Default: 0 tokens\n",
      "All assistant: 13 tokens\n",
      "Final assistant: 9 tokens\n"
     ]
    }
   ],
   "source": [
    "print(\"Comparison of Assistant Masks:\\n\")\n",
    "print(f\"Default (no mask):     {tokenized_output['assistant_masks']}\")\n",
    "print(f\"All assistant:         {tokenized_output_all['assistant_masks']}\")\n",
    "print(f\"Final assistant only:  {tokenized_output_final['assistant_masks']}\")\n",
    "\n",
    "print(\"\\nMask counts:\\n\")\n",
    "print(f\"Default: {sum(tokenized_output['assistant_masks'])} tokens\")\n",
    "print(f\"All assistant: {sum(tokenized_output_all['assistant_masks'])} tokens\")\n",
    "print(f\"Final assistant: {sum(tokenized_output_final['assistant_masks'])} tokens\")"
   ]
  }
 ],
 "metadata": {
  "kernelspec": {
   "display_name": "Python 3",
   "language": "python",
   "name": "python3"
  },
  "language_info": {
   "codemirror_mode": {
    "name": "ipython",
    "version": 3
   },
   "file_extension": ".py",
   "mimetype": "text/x-python",
   "name": "python",
   "nbconvert_exporter": "python",
   "pygments_lexer": "ipython3",
   "version": "3.11.7"
  }
 },
 "nbformat": 4,
 "nbformat_minor": 4
}
