{
 "cells": [
  {
   "cell_type": "markdown",
   "metadata": {},
   "source": [
    "# Qwen 3 8B templates usage example"
   ]
  },
  {
   "cell_type": "code",
   "execution_count": 6,
   "metadata": {},
   "outputs": [],
   "source": [
    "##########################################################################################\n",
    "# Credit to Alexander Kovrigin  for writing the All assistant template\n",
    "# Credit to Ed Beeching for writing the visulations\n",
    "# See -> https://huggingface.co/Qwen/Qwen3-8B/discussions/14\n",
    "##########################################################################################\n",
    "\n",
    "import transformers\n",
    "\n",
    "tokenizer = transformers.AutoTokenizer.from_pretrained(\"Qwen/Qwen3-8B\")\n",
    "\n",
    "conversation = [\n",
    "    {\"role\": \"user\", \"content\": \"Hello assistant\"},\n",
    "    {\"role\": \"assistant\", \"content\": \"Hello user\"},\n",
    "    {\"role\": \"user\", \"content\": \"How are you?\"},\n",
    "    {\"role\": \"assistant\", \"content\": \"I'm good\"},\n",
    "]"
   ]
  },
  {
   "cell_type": "code",
   "execution_count": 7,
   "metadata": {},
   "outputs": [
    {
     "name": "stdout",
     "output_type": "stream",
     "text": [
      "Default Template - No Assistant Tokens Masked:\n",
      "\n",
      "[151644, 872, 198, 9707, 17847, 151645, 198, 151644, 77091, 198, 9707, 1196, 151645, 198, 151644, 872, 198, 4340, 525, 498, 30, 151645, 198, 151644, 77091, 198, 151667, 271, 151668, 271, 40, 2776, 1661, 151645, 198]\n",
      "[0, 0, 0, 0, 0, 0, 0, 0, 0, 0, 0, 0, 0, 0, 0, 0, 0, 0, 0, 0, 0, 0, 0, 0, 0, 0, 0, 0, 0, 0, 0, 0, 0, 0, 0]\n",
      "Assistant mask sum: 0\n"
     ]
    },
    {
     "data": {
      "text/html": [
       "<pre style=\"white-space:pre;overflow-x:auto;line-height:normal;font-family:Menlo,'DejaVu Sans Mono',consolas,'Courier New',monospace\"><span style=\"color: #c0c0c0; text-decoration-color: #c0c0c0\">&lt;|im_start|&gt;user</span>\n",
       "<span style=\"color: #c0c0c0; text-decoration-color: #c0c0c0\">Hello assistant&lt;|im_end|&gt;</span>\n",
       "<span style=\"color: #c0c0c0; text-decoration-color: #c0c0c0\">&lt;|im_start|&gt;assistant</span>\n",
       "<span style=\"color: #c0c0c0; text-decoration-color: #c0c0c0\">Hello user&lt;|im_end|&gt;</span>\n",
       "<span style=\"color: #c0c0c0; text-decoration-color: #c0c0c0\">&lt;|im_start|&gt;user</span>\n",
       "<span style=\"color: #c0c0c0; text-decoration-color: #c0c0c0\">How are you?&lt;|im_end|&gt;</span>\n",
       "<span style=\"color: #c0c0c0; text-decoration-color: #c0c0c0\">&lt;|im_start|&gt;assistant</span>\n",
       "<span style=\"color: #c0c0c0; text-decoration-color: #c0c0c0\">&lt;think&gt;</span>\n",
       "\n",
       "<span style=\"color: #c0c0c0; text-decoration-color: #c0c0c0\">&lt;/think&gt;</span>\n",
       "\n",
       "<span style=\"color: #c0c0c0; text-decoration-color: #c0c0c0\">I'm good&lt;|im_end|&gt;</span>\n",
       "\n",
       "</pre>\n"
      ],
      "text/plain": [
       "\u001b[37m<|im_start|>\u001b[0m\u001b[37muser\u001b[0m\n",
       "\u001b[37mHello\u001b[0m\u001b[37m assistant\u001b[0m\u001b[37m<|im_end|>\u001b[0m\n",
       "\u001b[37m<|im_start|>\u001b[0m\u001b[37massistant\u001b[0m\n",
       "\u001b[37mHello\u001b[0m\u001b[37m user\u001b[0m\u001b[37m<|im_end|>\u001b[0m\n",
       "\u001b[37m<|im_start|>\u001b[0m\u001b[37muser\u001b[0m\n",
       "\u001b[37mHow\u001b[0m\u001b[37m are\u001b[0m\u001b[37m you\u001b[0m\u001b[37m?\u001b[0m\u001b[37m<|im_end|>\u001b[0m\n",
       "\u001b[37m<|im_start|>\u001b[0m\u001b[37massistant\u001b[0m\n",
       "\u001b[37m<think>\u001b[0m\n",
       "\n",
       "\u001b[37m</think>\u001b[0m\n",
       "\n",
       "\u001b[37mI\u001b[0m\u001b[37m'm\u001b[0m\u001b[37m good\u001b[0m\u001b[37m<|im_end|>\u001b[0m\n",
       "\n"
      ]
     },
     "metadata": {},
     "output_type": "display_data"
    }
   ],
   "source": [
    "##########################################################################################\n",
    "# Default Template (the default template doesn't mask any assistant tokens)\n",
    "##########################################################################################\n",
    "\n",
    "tokenized_output = tokenizer.apply_chat_template(\n",
    "    conversation,\n",
    "    return_assistant_tokens_mask=True,\n",
    "    return_dict=True,\n",
    ")\n",
    "\n",
    "print(\"Default Template - No Assistant Tokens Masked:\\n\")\n",
    "\n",
    "print(tokenized_output['input_ids'])\n",
    "print(tokenized_output['assistant_masks'])\n",
    "print(f\"Assistant mask sum: {sum(tokenized_output['assistant_masks'])}\")\n",
    "\n",
    "# Visualize using rich\n",
    "from rich import print as rich_print\n",
    "from rich.text import Text\n",
    "\n",
    "text_visualization = Text()\n",
    "tokens = tokenizer.convert_ids_to_tokens(tokenized_output.input_ids)\n",
    "for token, mask in zip(tokens, tokenized_output.assistant_masks):\n",
    "    color = \"cyan\" if mask else \"white\"\n",
    "    text_visualization.append(token.replace('Ġ', ' ').replace(\"Ċ\", \"\\n\"), style=color)\n",
    "rich_print(text_visualization)"
   ]
  },
  {
   "cell_type": "code",
   "execution_count": 8,
   "metadata": {},
   "outputs": [
    {
     "name": "stdout",
     "output_type": "stream",
     "text": [
      "All Assistant Template - All Assistant Tokens Masked:\n",
      "\n",
      "[151644, 872, 198, 9707, 17847, 151645, 198, 151644, 77091, 198, 9707, 1196, 151645, 198, 151644, 872, 198, 4340, 525, 498, 30, 151645, 198, 151644, 77091, 198, 151667, 271, 151668, 271, 40, 2776, 1661, 151645, 198]\n",
      "[0, 0, 0, 0, 0, 0, 0, 0, 0, 0, 1, 1, 1, 1, 0, 0, 0, 0, 0, 0, 0, 0, 0, 0, 0, 0, 1, 1, 1, 1, 1, 1, 1, 1, 1]\n",
      "Assistant mask sum: 13\n"
     ]
    },
    {
     "data": {
      "text/html": [
       "<pre style=\"white-space:pre;overflow-x:auto;line-height:normal;font-family:Menlo,'DejaVu Sans Mono',consolas,'Courier New',monospace\"><span style=\"color: #c0c0c0; text-decoration-color: #c0c0c0\">&lt;|im_start|&gt;user</span>\n",
       "<span style=\"color: #c0c0c0; text-decoration-color: #c0c0c0\">Hello assistant&lt;|im_end|&gt;</span>\n",
       "<span style=\"color: #c0c0c0; text-decoration-color: #c0c0c0\">&lt;|im_start|&gt;assistant</span>\n",
       "<span style=\"color: #008080; text-decoration-color: #008080\">Hello user&lt;|im_end|&gt;</span>\n",
       "<span style=\"color: #c0c0c0; text-decoration-color: #c0c0c0\">&lt;|im_start|&gt;user</span>\n",
       "<span style=\"color: #c0c0c0; text-decoration-color: #c0c0c0\">How are you?&lt;|im_end|&gt;</span>\n",
       "<span style=\"color: #c0c0c0; text-decoration-color: #c0c0c0\">&lt;|im_start|&gt;assistant</span>\n",
       "<span style=\"color: #008080; text-decoration-color: #008080\">&lt;think&gt;</span>\n",
       "\n",
       "<span style=\"color: #008080; text-decoration-color: #008080\">&lt;/think&gt;</span>\n",
       "\n",
       "<span style=\"color: #008080; text-decoration-color: #008080\">I'm good&lt;|im_end|&gt;</span>\n",
       "\n",
       "</pre>\n"
      ],
      "text/plain": [
       "\u001b[37m<|im_start|>\u001b[0m\u001b[37muser\u001b[0m\n",
       "\u001b[37mHello\u001b[0m\u001b[37m assistant\u001b[0m\u001b[37m<|im_end|>\u001b[0m\n",
       "\u001b[37m<|im_start|>\u001b[0m\u001b[37massistant\u001b[0m\n",
       "\u001b[36mHello\u001b[0m\u001b[36m user\u001b[0m\u001b[36m<|im_end|>\u001b[0m\n",
       "\u001b[37m<|im_start|>\u001b[0m\u001b[37muser\u001b[0m\n",
       "\u001b[37mHow\u001b[0m\u001b[37m are\u001b[0m\u001b[37m you\u001b[0m\u001b[37m?\u001b[0m\u001b[37m<|im_end|>\u001b[0m\n",
       "\u001b[37m<|im_start|>\u001b[0m\u001b[37massistant\u001b[0m\n",
       "\u001b[36m<think>\u001b[0m\n",
       "\n",
       "\u001b[36m</think>\u001b[0m\n",
       "\n",
       "\u001b[36mI\u001b[0m\u001b[36m'm\u001b[0m\u001b[36m good\u001b[0m\u001b[36m<|im_end|>\u001b[0m\n",
       "\n"
      ]
     },
     "metadata": {},
     "output_type": "display_data"
    }
   ],
   "source": [
    "##########################################################################################\n",
    "# All assistant template\n",
    "# Credit to Alexander Kovrigin(https://huggingface.co/Qwen/Qwen3-8B/discussions/14) for writing this.\n",
    "##########################################################################################\n",
    "\n",
    "# Load the all assistant template\n",
    "with open('all_assistant.jinja', 'r') as f:\n",
    "    all_assistant_template = f.read()\n",
    "\n",
    "tokenizer.chat_template = all_assistant_template\n",
    "\n",
    "tokenized_output_all = tokenizer.apply_chat_template(\n",
    "    conversation,\n",
    "    return_assistant_tokens_mask=True,\n",
    "    return_dict=True,\n",
    ")\n",
    "\n",
    "print(\"All Assistant Template - All Assistant Tokens Masked:\\n\")\n",
    "\n",
    "print(tokenized_output_all['input_ids'])\n",
    "print(tokenized_output_all['assistant_masks'])\n",
    "print(f\"Assistant mask sum: {sum(tokenized_output_all['assistant_masks'])}\")\n",
    "\n",
    "# Visualize using rich\n",
    "from rich import print as rich_print\n",
    "from rich.text import Text\n",
    "\n",
    "text_visualization = Text()\n",
    "tokens = tokenizer.convert_ids_to_tokens(tokenized_output_all.input_ids)\n",
    "for token, mask in zip(tokens, tokenized_output_all.assistant_masks):\n",
    "    color = \"cyan\" if mask else \"white\"\n",
    "    text_visualization.append(token.replace('Ġ', ' ').replace(\"Ċ\", \"\\n\"), style=color)\n",
    "rich_print(text_visualization)"
   ]
  },
  {
   "cell_type": "code",
   "execution_count": 9,
   "metadata": {},
   "outputs": [
    {
     "name": "stdout",
     "output_type": "stream",
     "text": [
      "Final Assistant Template - Only Final Assistant Tokens Masked:\n",
      "\n",
      "[151644, 872, 198, 9707, 17847, 151645, 198, 151644, 77091, 198, 9707, 1196, 151645, 198, 151644, 872, 198, 4340, 525, 498, 30, 151645, 198, 151644, 77091, 198, 151667, 271, 151668, 271, 40, 2776, 1661, 151645, 198]\n",
      "[0, 0, 0, 0, 0, 0, 0, 0, 0, 0, 0, 0, 0, 0, 0, 0, 0, 0, 0, 0, 0, 0, 0, 0, 0, 0, 1, 1, 1, 1, 1, 1, 1, 1, 1]\n",
      "Assistant mask sum: 9\n"
     ]
    },
    {
     "data": {
      "text/html": [
       "<pre style=\"white-space:pre;overflow-x:auto;line-height:normal;font-family:Menlo,'DejaVu Sans Mono',consolas,'Courier New',monospace\"><span style=\"color: #c0c0c0; text-decoration-color: #c0c0c0\">&lt;|im_start|&gt;user</span>\n",
       "<span style=\"color: #c0c0c0; text-decoration-color: #c0c0c0\">Hello assistant&lt;|im_end|&gt;</span>\n",
       "<span style=\"color: #c0c0c0; text-decoration-color: #c0c0c0\">&lt;|im_start|&gt;assistant</span>\n",
       "<span style=\"color: #c0c0c0; text-decoration-color: #c0c0c0\">Hello user&lt;|im_end|&gt;</span>\n",
       "<span style=\"color: #c0c0c0; text-decoration-color: #c0c0c0\">&lt;|im_start|&gt;user</span>\n",
       "<span style=\"color: #c0c0c0; text-decoration-color: #c0c0c0\">How are you?&lt;|im_end|&gt;</span>\n",
       "<span style=\"color: #c0c0c0; text-decoration-color: #c0c0c0\">&lt;|im_start|&gt;assistant</span>\n",
       "<span style=\"color: #008080; text-decoration-color: #008080\">&lt;think&gt;</span>\n",
       "\n",
       "<span style=\"color: #008080; text-decoration-color: #008080\">&lt;/think&gt;</span>\n",
       "\n",
       "<span style=\"color: #008080; text-decoration-color: #008080\">I'm good&lt;|im_end|&gt;</span>\n",
       "\n",
       "</pre>\n"
      ],
      "text/plain": [
       "\u001b[37m<|im_start|>\u001b[0m\u001b[37muser\u001b[0m\n",
       "\u001b[37mHello\u001b[0m\u001b[37m assistant\u001b[0m\u001b[37m<|im_end|>\u001b[0m\n",
       "\u001b[37m<|im_start|>\u001b[0m\u001b[37massistant\u001b[0m\n",
       "\u001b[37mHello\u001b[0m\u001b[37m user\u001b[0m\u001b[37m<|im_end|>\u001b[0m\n",
       "\u001b[37m<|im_start|>\u001b[0m\u001b[37muser\u001b[0m\n",
       "\u001b[37mHow\u001b[0m\u001b[37m are\u001b[0m\u001b[37m you\u001b[0m\u001b[37m?\u001b[0m\u001b[37m<|im_end|>\u001b[0m\n",
       "\u001b[37m<|im_start|>\u001b[0m\u001b[37massistant\u001b[0m\n",
       "\u001b[36m<think>\u001b[0m\n",
       "\n",
       "\u001b[36m</think>\u001b[0m\n",
       "\n",
       "\u001b[36mI\u001b[0m\u001b[36m'm\u001b[0m\u001b[36m good\u001b[0m\u001b[36m<|im_end|>\u001b[0m\n",
       "\n"
      ]
     },
     "metadata": {},
     "output_type": "display_data"
    }
   ],
   "source": [
    "##########################################################################################\n",
    "# Final assistant template\n",
    "##########################################################################################\n",
    "\n",
    "# Load the final assistant template\n",
    "with open('final_assistant.jinja', 'r') as f:\n",
    "    final_assistant_template = f.read()\n",
    "\n",
    "tokenizer.chat_template = final_assistant_template\n",
    "\n",
    "tokenized_output_final = tokenizer.apply_chat_template(\n",
    "    conversation,\n",
    "    return_assistant_tokens_mask=True,\n",
    "    return_dict=True,\n",
    ")\n",
    "\n",
    "print(\"Final Assistant Template - Only Final Assistant Tokens Masked:\\n\")\n",
    "\n",
    "print(tokenized_output_final['input_ids'])\n",
    "print(tokenized_output_final['assistant_masks'])\n",
    "print(f\"Assistant mask sum: {sum(tokenized_output_final['assistant_masks'])}\")\n",
    "\n",
    "# Visualize using rich\n",
    "from rich import print as rich_print\n",
    "from rich.text import Text\n",
    "\n",
    "text_visualization = Text()\n",
    "tokens = tokenizer.convert_ids_to_tokens(tokenized_output_final.input_ids)\n",
    "for token, mask in zip(tokens, tokenized_output_final.assistant_masks):\n",
    "    color = \"cyan\" if mask else \"white\"\n",
    "    text_visualization.append(token.replace('Ġ', ' ').replace(\"Ċ\", \"\\n\"), style=color)\n",
    "rich_print(text_visualization)"
   ]
  },
  {
   "cell_type": "markdown",
   "metadata": {},
   "source": [
    "## Comparison\n",
    "\n",
    "Compare the assistant masks across all three approaches:"
   ]
  },
  {
   "cell_type": "code",
   "execution_count": 10,
   "metadata": {},
   "outputs": [
    {
     "name": "stdout",
     "output_type": "stream",
     "text": [
      "Comparison of Assistant Masks:\n",
      "\n",
      "Default (no mask):     [0, 0, 0, 0, 0, 0, 0, 0, 0, 0, 0, 0, 0, 0, 0, 0, 0, 0, 0, 0, 0, 0, 0, 0, 0, 0, 0, 0, 0, 0, 0, 0, 0, 0, 0]\n",
      "All assistant:         [0, 0, 0, 0, 0, 0, 0, 0, 0, 0, 1, 1, 1, 1, 0, 0, 0, 0, 0, 0, 0, 0, 0, 0, 0, 0, 1, 1, 1, 1, 1, 1, 1, 1, 1]\n",
      "Final assistant only:  [0, 0, 0, 0, 0, 0, 0, 0, 0, 0, 0, 0, 0, 0, 0, 0, 0, 0, 0, 0, 0, 0, 0, 0, 0, 0, 1, 1, 1, 1, 1, 1, 1, 1, 1]\n",
      "\n",
      "Mask counts:\n",
      "\n",
      "Default: 0 tokens\n",
      "All assistant: 13 tokens\n",
      "Final assistant: 9 tokens\n"
     ]
    }
   ],
   "source": [
    "print(\"Comparison of Assistant Masks:\\n\")\n",
    "print(f\"Default (no mask):     {tokenized_output['assistant_masks']}\")\n",
    "print(f\"All assistant:         {tokenized_output_all['assistant_masks']}\")\n",
    "print(f\"Final assistant only:  {tokenized_output_final['assistant_masks']}\")\n",
    "\n",
    "print(\"\\nMask counts:\\n\")\n",
    "print(f\"Default: {sum(tokenized_output['assistant_masks'])} tokens\")\n",
    "print(f\"All assistant: {sum(tokenized_output_all['assistant_masks'])} tokens\")\n",
    "print(f\"Final assistant: {sum(tokenized_output_final['assistant_masks'])} tokens\")"
   ]
  }
 ],
 "metadata": {
  "kernelspec": {
   "display_name": "Python 3",
   "language": "python",
   "name": "python3"
  },
  "language_info": {
   "codemirror_mode": {
    "name": "ipython",
    "version": 3
   },
   "file_extension": ".py",
   "mimetype": "text/x-python",
   "name": "python",
   "nbconvert_exporter": "python",
   "pygments_lexer": "ipython3",
   "version": "3.11.7"
  }
 },
 "nbformat": 4,
 "nbformat_minor": 4
}
